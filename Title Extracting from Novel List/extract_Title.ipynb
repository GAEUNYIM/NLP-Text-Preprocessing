{
 "cells": [
  {
   "cell_type": "code",
   "execution_count": 2,
   "metadata": {},
   "outputs": [],
   "source": [
    "# 기존의 파일 이름 목록에서 작품 번호와 작가 이름을 추출하는 코드\n",
    "#  csv 파일 형태로 저장\n",
    "\n",
    "# 추출 전 : 73. 영자의 전성시대 / 조선작(趙善作)\n",
    "# 추출 후 : '영자의 전성시대','조선작'\n",
    "\n",
    "import openpyxl as opl\n",
    "\n",
    "root_path = \"C:/Users/rkdms/OneDrive_UNIST/바탕 화면/UNIST/2021_01/[DH Lab] 현대소설111/\"\n",
    "f = open(root_path + 'row_novel_list.txt', 'r')\n",
    "e = opl.Workbook()\n",
    "\n",
    "sheet1 = e.active\n",
    "\n",
    "\n",
    "while True:\n",
    "    line = f.readline()\n",
    "    if not line:\n",
    "        break\n",
    "    # print(line)\n",
    "    dot = line.split('. ')\n",
    "    line = dot[1]\n",
    "    \n",
    "    slash = line.split(' / ')\n",
    "    \n",
    "    title = slash[1].split('(')[0]\n",
    "    author = slash[0].split('(')[0]\n",
    "    \n",
    "    sheet1.append([title, author])\n",
    "    \n",
    "f.close()\n",
    "e.save(root_path + 'novel_list.xlsx')"
   ]
  },
  {
   "cell_type": "code",
   "execution_count": null,
   "metadata": {},
   "outputs": [],
   "source": []
  }
 ],
 "metadata": {
  "kernelspec": {
   "display_name": "Python 3",
   "language": "python",
   "name": "python3"
  },
  "language_info": {
   "codemirror_mode": {
    "name": "ipython",
    "version": 3
   },
   "file_extension": ".py",
   "mimetype": "text/x-python",
   "name": "python",
   "nbconvert_exporter": "python",
   "pygments_lexer": "ipython3",
   "version": "3.7.7"
  }
 },
 "nbformat": 4,
 "nbformat_minor": 4
}
